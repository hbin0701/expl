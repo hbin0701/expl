{
 "cells": [
  {
   "cell_type": "code",
   "execution_count": 10,
   "metadata": {},
   "outputs": [],
   "source": [
    "from transformers import AutoTokenizer, AutoModelForCausalLM"
   ]
  },
  {
   "cell_type": "code",
   "execution_count": 11,
   "metadata": {},
   "outputs": [
    {
     "name": "stderr",
     "output_type": "stream",
     "text": [
      "Using custom data configuration default-668447907e70c92a\n",
      "Found cached dataset csv (/root/.cache/huggingface/datasets/csv/default-668447907e70c92a/0.0.0/6b34fb8fcf56f7c8ba51dc895bfa2bfbe43546f190a60fcf74bb5e8afdcc2317)\n"
     ]
    },
    {
     "data": {
      "application/vnd.jupyter.widget-view+json": {
       "model_id": "ccb67f70ab3647a785fad7a712e44b4e",
       "version_major": 2,
       "version_minor": 0
      },
      "text/plain": [
       "  0%|          | 0/1 [00:00<?, ?it/s]"
      ]
     },
     "metadata": {},
     "output_type": "display_data"
    }
   ],
   "source": [
    "from datasets import load_dataset\n",
    "\n",
    "test_set = load_dataset('csv', data_files={\n",
    "            'train': \"/workspace/expl/ECQA-Dataset/cqa_data_test.csv\"})"
   ]
  },
  {
   "cell_type": "code",
   "execution_count": 12,
   "metadata": {},
   "outputs": [],
   "source": [
    "option_keys = sorted([\n",
    "    key for key in test_set['train'][0]\n",
    "    if key.startswith(\"q_op\")\n",
    "    ])\n",
    "\n",
    "\n",
    "input_strs = []\n",
    "target_strs = []    \n",
    "\n",
    "ans_type = 'taskA_pos' \n",
    "for example in test_set['train']:\n",
    "\n",
    "    include_expl = True\n",
    "    ans_type = 'taskA_pos' # or 'taskA_pos', 'taskA_neg', 'taskB'\n",
    "\n",
    "    all_options = \"\".join([f\"- {j+1}. {example[option_key]}\\n\" for j, option_key in enumerate(option_keys)])\n",
    "    input_str = f\"Question: {example['q_text']}\\n{all_options}\\nAnswer:\\n\"\n",
    "    target_str = f\"{example['q_ans']}. {example[ans_type]} <|endoftext|>\"\n",
    "    input_strs.append(input_str)\n",
    "    target_strs.append(target_str)\n"
   ]
  },
  {
   "cell_type": "code",
   "execution_count": 13,
   "metadata": {},
   "outputs": [],
   "source": [
    "model = AutoModelForCausalLM.from_pretrained(\"/workspace/quality/result/answer/checkpoint-3100\")\n",
    "tokenizer = AutoTokenizer.from_pretrained(\"gpt2\")"
   ]
  },
  {
   "cell_type": "code",
   "execution_count": 20,
   "metadata": {},
   "outputs": [
    {
     "name": "stderr",
     "output_type": "stream",
     "text": [
      "The attention mask and the pad token id were not set. As a consequence, you may observe unexpected behavior. Please pass your input's `attention_mask` to obtain reliable results.\n",
      "Setting `pad_token_id` to `eos_token_id`:50256 for open-end generation.\n"
     ]
    },
    {
     "name": "stdout",
     "output_type": "stream",
     "text": [
      "tensor([[24361,    25,  1867,  1611,   286,   661,   481,  2130,   508,   318,\n",
      "           287,  3877,   286,  1628,   804,   329,    30,   198,    12,   352,\n",
      "            13, 31828,   198,    12,   362,    13,  5490,   198,    12,   513,\n",
      "            13,   423,  3725,   198,    12,   604,    13,  1011,  3877,   198,\n",
      "            12,   642,    13,  6478,   198,   198, 33706,    25,   198]])\n"
     ]
    }
   ],
   "source": [
    "import torch\n",
    "\n",
    "for x in input_strs:\n",
    "    x = tokenizer(x, return_tensors='pt')['input_ids']\n",
    "    print(x)\n",
    "    with torch.no_grad():\n",
    "        result = model.generate(\n",
    "                    x, \n",
    "                    max_length=100, \n",
    "                    num_beams=3, \n",
    "                    early_stopping=True\n",
    "                )\n",
    "    sel_output = tokenizer.decode(result[0], skip_special_tokens=True)\n",
    "    break"
   ]
  },
  {
   "cell_type": "code",
   "execution_count": null,
   "metadata": {},
   "outputs": [],
   "source": []
  },
  {
   "cell_type": "markdown",
   "metadata": {},
   "source": []
  }
 ],
 "metadata": {
  "kernelspec": {
   "display_name": "base",
   "language": "python",
   "name": "python3"
  },
  "language_info": {
   "codemirror_mode": {
    "name": "ipython",
    "version": 3
   },
   "file_extension": ".py",
   "mimetype": "text/x-python",
   "name": "python",
   "nbconvert_exporter": "python",
   "pygments_lexer": "ipython3",
   "version": "3.8.10"
  },
  "orig_nbformat": 4,
  "vscode": {
   "interpreter": {
    "hash": "d4d1e4263499bec80672ea0156c357c1ee493ec2b1c70f0acce89fc37c4a6abe"
   }
  }
 },
 "nbformat": 4,
 "nbformat_minor": 2
}
